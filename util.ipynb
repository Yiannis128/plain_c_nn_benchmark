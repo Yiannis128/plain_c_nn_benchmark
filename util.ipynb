{
 "cells": [
  {
   "cell_type": "markdown",
   "id": "1616de85-ffc7-4409-be49-1842633f8260",
   "metadata": {},
   "source": [
    "# Utilities\n",
    "\n",
    "Author: Yiannis Charalambous\n",
    "\n",
    "Helper scripts that **should NOT** automatically execute. If you do then it will delete all files that have been built and you will need to rebuild the entire project."
   ]
  },
  {
   "cell_type": "code",
   "execution_count": 9,
   "id": "4fd9044d-d543-4120-8c99-a004d25cdd5f",
   "metadata": {},
   "outputs": [],
   "source": [
    "import shutil\n",
    "import os\n",
    "import errno"
   ]
  },
  {
   "cell_type": "code",
   "execution_count": 10,
   "id": "c8c07a9f-29f3-4f0b-a6c0-eae83b81a2a0",
   "metadata": {},
   "outputs": [],
   "source": [
    "def mkdir_path(path):\n",
    "    try:\n",
    "        os.makedirs(path)\n",
    "    except os.error as e:\n",
    "        if e.errno != errno.EEXIST:\n",
    "            raise"
   ]
  },
  {
   "cell_type": "code",
   "execution_count": 11,
   "id": "ce31b42c-ecef-4652-9948-bf5d2b5bd433",
   "metadata": {},
   "outputs": [],
   "source": [
    "folders: list[str] = [\n",
    "    \"hopfield_nets\",\n",
    "    \"poly_approx\",\n",
    "    \"reach_prob_density\",\n",
    "    \"reinforcement_learning\",\n",
    "]"
   ]
  },
  {
   "cell_type": "markdown",
   "id": "9b5c2a83-6730-4506-ae2f-b6f502bd1086",
   "metadata": {},
   "source": [
    "## Delete Bin Data"
   ]
  },
  {
   "cell_type": "code",
   "execution_count": 12,
   "id": "9275a2ba-70df-401e-8f48-56937866297c",
   "metadata": {},
   "outputs": [],
   "source": [
    "if os.path.exists(\"./bin\"):\n",
    "    shutil.rmtree(\"./bin\")\n",
    "\n",
    "mkdir_path(\"./bin/intermediate\")\n",
    "for folder in folders:\n",
    "    mkdir_path(f\"./bin/{folder}\")"
   ]
  },
  {
   "cell_type": "markdown",
   "id": "07451458-95de-4e37-bfe1-7d1d664e0194",
   "metadata": {},
   "source": [
    "## Delete Patches"
   ]
  },
  {
   "cell_type": "code",
   "execution_count": 13,
   "id": "b3c28bef-47a1-4b85-bf41-536f83d862d9",
   "metadata": {},
   "outputs": [],
   "source": [
    "if os.path.exists(\"./patches\"):\n",
    "    shutil.rmtree(\"./patches\")\n",
    "\n",
    "mkdir_path(\"./patches\")"
   ]
  },
  {
   "cell_type": "markdown",
   "id": "1786a45d-aba8-4fcc-9f3b-13ec542f800b",
   "metadata": {},
   "source": [
    "## Delete Build"
   ]
  },
  {
   "cell_type": "code",
   "execution_count": 14,
   "id": "4e494bcf-6ef4-415b-8163-1d700425497d",
   "metadata": {},
   "outputs": [],
   "source": [
    "if os.path.exists(\"./build\"):\n",
    "    shutil.rmtree(\"./build\")\n",
    "\n",
    "mkdir_path(\"./build\")"
   ]
  },
  {
   "cell_type": "code",
   "execution_count": null,
   "id": "5bfaeca6-af64-4ad7-aadb-d30a5453a667",
   "metadata": {},
   "outputs": [],
   "source": []
  }
 ],
 "metadata": {
  "kernelspec": {
   "display_name": "plain_c_nn_benchmark-f21d62b55eca4bc0810851e7ba391360",
   "language": "python",
   "name": "plain_c_nn_benchmark-f21d62b55eca4bc0810851e7ba391360"
  },
  "language_info": {
   "codemirror_mode": {
    "name": "ipython",
    "version": 3
   },
   "file_extension": ".py",
   "mimetype": "text/x-python",
   "name": "python",
   "nbconvert_exporter": "python",
   "pygments_lexer": "ipython3",
   "version": "3.11.2"
  }
 },
 "nbformat": 4,
 "nbformat_minor": 5
}
